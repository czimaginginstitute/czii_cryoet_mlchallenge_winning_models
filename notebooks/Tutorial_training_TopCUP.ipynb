{
 "cells": [
  {
   "cell_type": "markdown",
   "metadata": {
    "id": "JT5SZxmxZLZE"
   },
   "source": [
    "#  Train TopCUP Model to Extract Protein Particles in CryoET Dataset\n",
    "\n",
    "**Estimated time to complete:** 20 minutes"
   ]
  },
  {
   "cell_type": "markdown",
   "metadata": {
    "id": "BbeoPlg5aCnw"
   },
   "source": [
    "## Learning Goals\n",
    "* Create a copick configuration file for loading cryoET dataset.\n",
    "* Train TopCUP models and automatically save best checkpoints via its CLI."
   ]
  },
  {
   "cell_type": "markdown",
   "metadata": {
    "id": "Bb7T-ymlaOKy"
   },
   "source": [
    "## Prerequisites\n",
    "\n",
    "* The TopCUP model requires `python>=3.10`. At the time of publication, Colab defaults to Python 3.12   \n",
    "* This model requires a minimum T4 GPU to run.  "
   ]
  },
  {
   "cell_type": "markdown",
   "metadata": {
    "id": "pqgtQsXOayO7"
   },
   "source": [
    "## Introduction\n",
    "\n",
    "The Top CryoET U-Net Picker (TopCUP) is a 3D U-Net–based ensemble model designed for particle picking in cryo-electron tomography (cryoET) volumes.\n",
    "It uses a segmentation heatmap approach to identify particle locations.\n",
    "TopCUP is fully integrated with copick, a flexible cryoET dataset API developed at the Chan Zuckerberg Imaging Institute (CZII).\n",
    "This integration makes it easy to apply the model directly to any cryoET dataset in copick format.\n",
    "\n",
    "\n",
    "For this tutorial, we will use seven tomograms from the Experimental Training Dataset (Dataset ID: DS-10440), which is the same dataset used in the Kaggle CryoET Challenge.\n",
    "Now that this dataset is publicly available on the CZ CryoET Data Portal,\n",
    "we can stream it directly using the copick configuration file provided below.\n",
    "We can automatically generate a copick configuration file from copick API, and add metadata for each particles for training TopCUP models."
   ]
  },
  {
   "cell_type": "markdown",
   "metadata": {
    "id": "VIcqpYDxF6Ph"
   },
   "source": [
    "## Setup\n",
    "\n",
    "A copick configuration file is required as input.\n",
    "\n",
    "The copick configuration file must define **pickable objects** (i.e., the protein complexes you want to detect) and **three key metadata** parameters for each object:\n",
    "* `score_weight`: weight for each class in the DenseCrossEntropy loss\n",
    "* `score_threshold`: threshold to filter final picks per class, reducing false positives\n",
    "* `score_weight`: weight for each class in the F-beta score evaluation\n",
    "\n",
    "You can find additional instructions and template configurations for accessing datasets across different platforms from the official copick [page](https://copick.github.io/copick/examples/overview/).\n",
    "\n",
    "An example of a copick file is linked here at the [model Github](https://github.com/czimaginginstitute/czii_cryoet_mlchallenge_winning_models?tab=readme-ov-file#copick-configuration-file)."
   ]
  },
  {
   "cell_type": "markdown",
   "metadata": {
    "id": "QXQS5ndjGU25"
   },
   "source": [
    "## Installation\n",
    "\n",
    "First, download the repository, which will also install required packages."
   ]
  },
  {
   "cell_type": "code",
   "execution_count": 1,
   "metadata": {
    "colab": {
     "base_uri": "https://localhost:8080/",
     "height": 1000
    },
    "id": "UiYVgxe16WLA",
    "outputId": "b9edbc6e-aad3-468e-fe00-1de245559977",
    "tags": []
   },
   "outputs": [],
   "source": [
    "!pip install git+https://github.com/czimaginginstitute/czii_cryoet_mlchallenge_winning_models.git"
   ]
  },
  {
   "cell_type": "markdown",
   "metadata": {
    "id": "oRT3hUgVGk_k"
   },
   "source": [
    "## Copick Configuration File\n",
    "\n",
    "The code below adds metadata for the particles and streams in our copick file."
   ]
  },
  {
   "cell_type": "code",
   "execution_count": null,
   "metadata": {
    "id": "XJmrmeKN6SrE"
   },
   "outputs": [],
   "source": [
    "import os, copick\n",
    "\n",
    "\n",
    "metadata = {\n",
    "    \"ferritin-complex\": {\n",
    "        \"score_weight\": 1,\n",
    "        \"score_threshold\": 0.16,\n",
    "        \"class_loss_weight\": 256\n",
    "    },\n",
    "    \"thyroglobulin\": {\n",
    "        \"score_weight\": 2,\n",
    "        \"score_threshold\": 0.18,\n",
    "        \"class_loss_weight\": 256\n",
    "    },\n",
    "    \"beta-galactosidase\": {\n",
    "        \"score_weight\": 2,\n",
    "        \"score_threshold\": 0.13,\n",
    "        \"class_loss_weight\": 256\n",
    "    },\n",
    "    \"beta-amylase\": {\n",
    "        \"score_weight\": 0,\n",
    "        \"score_threshold\": 0.25,\n",
    "        \"class_loss_weight\": 256\n",
    "    },\n",
    "    \"cytosolic-ribosome\": {\n",
    "        \"score_weight\": 1,\n",
    "        \"score_threshold\": 0.19,\n",
    "        \"class_loss_weight\": 256\n",
    "    },\n",
    "    \"virus-like-capsid\": {\n",
    "        \"score_weight\": 1,\n",
    "        \"score_threshold\": 0.5,\n",
    "        \"class_loss_weight\": 256\n",
    "    }\n",
    "}\n",
    "\n",
    "\n",
    "copick_config_path = os.path.abspath('./training_copick_config_portal.json')\n",
    "overlay_path = os.path.abspath('./tmp_overlay')\n",
    "copick_root = copick.from_czcdp_datasets(\n",
    "    [10440], #dataset_ids\n",
    "    overlay_path,\n",
    "    {'auto_mkdir': True}, #overlay_root, self-defined\n",
    "    output_path = copick_config_path,\n",
    ")\n",
    "\n",
    "# only consider the 6 particles\n",
    "config_pickable_objects = []\n",
    "for p in copick_root.config.pickable_objects:\n",
    "    if p.name in metadata:\n",
    "        p.metadata = metadata[p.name]\n",
    "        config_pickable_objects.append(p)\n",
    "\n",
    "copick_root.config.pickable_objects = config_pickable_objects\n",
    "# save the copick config for later use\n",
    "copick_root.save_config(copick_config_path)"
   ]
  },
  {
   "cell_type": "markdown",
   "metadata": {
    "id": "8JnvMS_B6SrF"
   },
   "source": [
    "### Additional Copick Command Options\n",
    "You can explore dataset-specific options such as `run_names`, `pixelsize`, `tomo_type`, and annotator `user_id` using the copick API."
   ]
  },
  {
   "cell_type": "code",
   "execution_count": null,
   "metadata": {
    "colab": {
     "base_uri": "https://localhost:8080/"
    },
    "id": "Lw8mkLFL6SrF",
    "outputId": "bea4c80b-732f-4de0-a6f1-0fe451dce0a4"
   },
   "outputs": [
    {
     "name": "stdout",
     "output_type": "stream",
     "text": [
      "run name: 16463, annotation user_id: data-portal, available voxelsize/pixelsize: 4.99,10.012 A\n",
      "run name: 16464, annotation user_id: data-portal, available voxelsize/pixelsize: 4.99,10.012 A\n",
      "run name: 16465, annotation user_id: data-portal, available voxelsize/pixelsize: 4.99,10.012 A\n",
      "run name: 16466, annotation user_id: data-portal, available voxelsize/pixelsize: 4.99,10.012 A\n",
      "run name: 16467, annotation user_id: data-portal, available voxelsize/pixelsize: 4.99,10.012 A\n",
      "run name: 16468, annotation user_id: data-portal, available voxelsize/pixelsize: 4.99,10.012 A\n",
      "run name: 16469, annotation user_id: data-portal, available voxelsize/pixelsize: 4.99,10.012 A\n"
     ]
    }
   ],
   "source": [
    "# Check available run names\n",
    "for run in copick_root.runs:\n",
    "    pss = [str(vs.voxel_size) for vs in run.voxel_spacings]\n",
    "    ps = ','.join(set(pss))\n",
    "    users = [p.user_id for p in run.picks]\n",
    "    urs = ','.join(set(users))\n",
    "    print(f\"run name: {run.name}, annotation user_id: {urs}, available voxelsize/pixelsize: {ps} A\")"
   ]
  },
  {
   "cell_type": "code",
   "execution_count": null,
   "metadata": {
    "colab": {
     "base_uri": "https://localhost:8080/"
    },
    "id": "9F5TK5FU6SrF",
    "outputId": "30a603b9-f455-4bc9-f6de-c6ff1c3ada9e"
   },
   "outputs": [
    {
     "name": "stdout",
     "output_type": "stream",
     "text": [
      "run 16463 has tomogram_type: wbp-denoised-denoiset-ctfdeconv,wbp-filtered-ctfdeconv\n"
     ]
    }
   ],
   "source": [
    "# Get a single run\n",
    "run = copick_root.get_run('16463')\n",
    "voxel_spacing_obj = run.get_voxel_spacing(10.012)\n",
    "\n",
    "# Check available reconstruction_type\n",
    "tts = [t.tomo_type for t in voxel_spacing_obj.tomograms]\n",
    "tt = ','.join(tts)\n",
    "print(f'run {run.name} has tomogram_type: {tt}')"
   ]
  },
  {
   "cell_type": "markdown",
   "metadata": {
    "id": "ChKuhOlbbzX2"
   },
   "source": [
    "## TopCUP CLI Commands\n",
    "\n",
    "To explore the available options for running TopCUP, use the `--help` flag. In your terminal, run `topcup train --help`. This will display all command-line options and arguments for running TopCUP training, see below:\n",
    "\n",
    "```\n",
    "Usage: topcup train [OPTIONS]\n",
    "\n",
    "Options:\n",
    "  -c, --copick_config FILE      copick config file path  [required]\n",
    "  -tts, --train_run_names TEXT  Tomogram dataset run names for training\n",
    "                                [required]\n",
    "  -vts, --val_run_names TEXT    Tomogram dataset run names for validation\n",
    "                                [required]\n",
    "  -tt, --tomo_type TEXT         Tomogram type. Default is denoised.\n",
    "  -u, --user_id TEXT            Needed for training, the user_id used for the\n",
    "                                ground truth picks.\n",
    "  -s, --session_id TEXT         Needed for training, the session_id used for\n",
    "                                the ground truth picks. Default is None.\n",
    "  -bs, --batch_size INTEGER     batch size for data loader\n",
    "  -n, --n_aug INTEGER           Data augmentation copy. Default is 1112.\n",
    "  -l, --learning_rate FLOAT     Learning rate for optimizer\n",
    "  -p, --pretrained_weight TEXT  One pretrained weights file path. Default is\n",
    "                                None.\n",
    "  -e, --epochs INTEGER          Number of epochs. Default is 100.\n",
    "  --pixelsize FLOAT             Pixelsize in angstrom. Default is 10.0A.\n",
    "  -o, --output_dir TEXT         output dir for saving checkpoints\n",
    "  -v, --logger_version INTEGER  PyTorch-Lightning logger version. If not set,\n",
    "                                logs and outputs will increment to the next\n",
    "                                version.\n",
    "  -h, --help                    Show this message and exit.\n",
    "```"
   ]
  },
  {
   "cell_type": "markdown",
   "metadata": {
    "id": "BRrQnNcCJVgj"
   },
   "source": [
    "## Training\n",
    "\n",
    "Next we will train the model through the TopCUP CLI. Training the model takes about 19 minutes per epoch using a batch size of 4. Having data downloaded locally can shorten the data loading overhead per epoch. For this tutorial, we will only train the model for 1 epoch."
   ]
  },
  {
   "cell_type": "code",
   "execution_count": null,
   "metadata": {
    "colab": {
     "base_uri": "https://localhost:8080/",
     "height": 578,
     "referenced_widgets": [
      "a5f7cb55cbc04cca91749141bb40a5eb",
      "f28c06476c514cf0bc065f0e319be724",
      "ffe1c7dcdfd0495dbe2b0016371682ac",
      "105c524890324d9c9bfd215bd1b83fb9",
      "aef599b6b4534805b5c4ba0222421d75",
      "c9c917c4e4d04c509b0b6a8e6cdee9ca",
      "4f8b7af919c8446eae3190c98e874892",
      "2f630d6f0c4a40d9b92780e5b7d2509f",
      "34c2c04052824ef5ab7a6e598274c86b",
      "a588b2140ac74efdbde62a04255f6c95",
      "9efe26aaaf7a4409b935ec5ef93a95c2",
      "ea32cac17f184bbbb8128732aec94fa5",
      "5f1eda58a41241f6a2be76846de6e0ff",
      "3c18d2b5f4e442948d3fb6964427029e",
      "ca0dd6b6e903497887d975e860feee8e",
      "8065faf943f04fe59a7a45e58ae24c71",
      "d9c1e5c4e6f74d67820596f379f32e54",
      "9e3a1a1015184461a3798eb1d57d4b38",
      "c8ef7bef9329476b858bf36188f3d7cf",
      "86282e7c3eba4912a7972f7280d067d7",
      "90f8910be51b4d6e9176c58b7dee8bf8",
      "62f761b7f00c48dc94cee0ea6a4fdcb6"
     ]
    },
    "id": "CaTBGVOSehLb",
    "outputId": "d3a174f7-c08c-4480-9547-6014a6db150f"
   },
   "outputs": [
    {
     "data": {
      "text/html": [
       "<pre style=\"white-space:pre;overflow-x:auto;line-height:normal;font-family:Menlo,'DejaVu Sans Mono',consolas,'Courier New',monospace\">NumExpr defaulting to <span style=\"color: #008080; text-decoration-color: #008080; font-weight: bold\">2</span> threads.                                                                       <a href=\"file:///usr/local/lib/python3.12/dist-packages/numexpr/utils.py\" target=\"_blank\"><span style=\"color: #7f7f7f; text-decoration-color: #7f7f7f\">utils.py</span></a><span style=\"color: #7f7f7f; text-decoration-color: #7f7f7f\">:</span><a href=\"file:///usr/local/lib/python3.12/dist-packages/numexpr/utils.py#164\" target=\"_blank\"><span style=\"color: #7f7f7f; text-decoration-color: #7f7f7f\">164</span></a>\n",
       "</pre>\n"
      ],
      "text/plain": [
       "NumExpr defaulting to \u001b[1;36m2\u001b[0m threads.                                                                       \u001b]8;id=878597;file:///usr/local/lib/python3.12/dist-packages/numexpr/utils.py\u001b\\\u001b[2mutils.py\u001b[0m\u001b]8;;\u001b\\\u001b[2m:\u001b[0m\u001b]8;id=746295;file:///usr/local/lib/python3.12/dist-packages/numexpr/utils.py#164\u001b\\\u001b[2m164\u001b[0m\u001b]8;;\u001b\\\n"
      ]
     },
     "metadata": {},
     "output_type": "display_data"
    },
    {
     "name": "stdout",
     "output_type": "stream",
     "text": [
      "logger version 0\n",
      "logger log_dir /content/outputs_training/logs/training_logs/version_0\n",
      "making output dir /content/outputs_training/jobs/0\n",
      "Checkpoint dir: /content/outputs_training/checkpoints\n"
     ]
    },
    {
     "data": {
      "text/html": [
       "<pre style=\"white-space:pre;overflow-x:auto;line-height:normal;font-family:Menlo,'DejaVu Sans Mono',consolas,'Courier New',monospace\">GPU available: <span style=\"color: #00ff00; text-decoration-color: #00ff00; font-style: italic\">True</span> <span style=\"font-weight: bold\">(</span>cuda<span style=\"font-weight: bold\">)</span>, used: <span style=\"color: #00ff00; text-decoration-color: #00ff00; font-style: italic\">True</span>                                                                 <a href=\"file:///usr/local/lib/python3.12/dist-packages/pytorch_lightning/trainer/setup.py\" target=\"_blank\"><span style=\"color: #7f7f7f; text-decoration-color: #7f7f7f\">setup.py</span></a><span style=\"color: #7f7f7f; text-decoration-color: #7f7f7f\">:</span><a href=\"file:///usr/local/lib/python3.12/dist-packages/pytorch_lightning/trainer/setup.py#156\" target=\"_blank\"><span style=\"color: #7f7f7f; text-decoration-color: #7f7f7f\">156</span></a>\n",
       "</pre>\n"
      ],
      "text/plain": [
       "GPU available: \u001b[3;92mTrue\u001b[0m \u001b[1m(\u001b[0mcuda\u001b[1m)\u001b[0m, used: \u001b[3;92mTrue\u001b[0m                                                                 \u001b]8;id=922321;file:///usr/local/lib/python3.12/dist-packages/pytorch_lightning/trainer/setup.py\u001b\\\u001b[2msetup.py\u001b[0m\u001b]8;;\u001b\\\u001b[2m:\u001b[0m\u001b]8;id=763892;file:///usr/local/lib/python3.12/dist-packages/pytorch_lightning/trainer/setup.py#156\u001b\\\u001b[2m156\u001b[0m\u001b]8;;\u001b\\\n"
      ]
     },
     "metadata": {},
     "output_type": "display_data"
    },
    {
     "data": {
      "text/html": [
       "<pre style=\"white-space:pre;overflow-x:auto;line-height:normal;font-family:Menlo,'DejaVu Sans Mono',consolas,'Courier New',monospace\">TPU available: <span style=\"color: #ff0000; text-decoration-color: #ff0000; font-style: italic\">False</span>, using: <span style=\"color: #008080; text-decoration-color: #008080; font-weight: bold\">0</span> TPU cores                                                               <a href=\"file:///usr/local/lib/python3.12/dist-packages/pytorch_lightning/trainer/setup.py\" target=\"_blank\"><span style=\"color: #7f7f7f; text-decoration-color: #7f7f7f\">setup.py</span></a><span style=\"color: #7f7f7f; text-decoration-color: #7f7f7f\">:</span><a href=\"file:///usr/local/lib/python3.12/dist-packages/pytorch_lightning/trainer/setup.py#159\" target=\"_blank\"><span style=\"color: #7f7f7f; text-decoration-color: #7f7f7f\">159</span></a>\n",
       "</pre>\n"
      ],
      "text/plain": [
       "TPU available: \u001b[3;91mFalse\u001b[0m, using: \u001b[1;36m0\u001b[0m TPU cores                                                               \u001b]8;id=668112;file:///usr/local/lib/python3.12/dist-packages/pytorch_lightning/trainer/setup.py\u001b\\\u001b[2msetup.py\u001b[0m\u001b]8;;\u001b\\\u001b[2m:\u001b[0m\u001b]8;id=975412;file:///usr/local/lib/python3.12/dist-packages/pytorch_lightning/trainer/setup.py#159\u001b\\\u001b[2m159\u001b[0m\u001b]8;;\u001b\\\n"
      ]
     },
     "metadata": {},
     "output_type": "display_data"
    },
    {
     "data": {
      "text/html": [
       "<pre style=\"white-space:pre;overflow-x:auto;line-height:normal;font-family:Menlo,'DejaVu Sans Mono',consolas,'Courier New',monospace\">HPU available: <span style=\"color: #ff0000; text-decoration-color: #ff0000; font-style: italic\">False</span>, using: <span style=\"color: #008080; text-decoration-color: #008080; font-weight: bold\">0</span> HPUs                                                                    <a href=\"file:///usr/local/lib/python3.12/dist-packages/pytorch_lightning/trainer/setup.py\" target=\"_blank\"><span style=\"color: #7f7f7f; text-decoration-color: #7f7f7f\">setup.py</span></a><span style=\"color: #7f7f7f; text-decoration-color: #7f7f7f\">:</span><a href=\"file:///usr/local/lib/python3.12/dist-packages/pytorch_lightning/trainer/setup.py#169\" target=\"_blank\"><span style=\"color: #7f7f7f; text-decoration-color: #7f7f7f\">169</span></a>\n",
       "</pre>\n"
      ],
      "text/plain": [
       "HPU available: \u001b[3;91mFalse\u001b[0m, using: \u001b[1;36m0\u001b[0m HPUs                                                                    \u001b]8;id=757787;file:///usr/local/lib/python3.12/dist-packages/pytorch_lightning/trainer/setup.py\u001b\\\u001b[2msetup.py\u001b[0m\u001b]8;;\u001b\\\u001b[2m:\u001b[0m\u001b]8;id=460633;file:///usr/local/lib/python3.12/dist-packages/pytorch_lightning/trainer/setup.py#169\u001b\\\u001b[2m169\u001b[0m\u001b]8;;\u001b\\\n"
      ]
     },
     "metadata": {},
     "output_type": "display_data"
    },
    {
     "data": {
      "text/html": [
       "<pre style=\"white-space:pre;overflow-x:auto;line-height:normal;font-family:Menlo,'DejaVu Sans Mono',consolas,'Courier New',monospace\">`<span style=\"color: #800080; text-decoration-color: #800080; font-weight: bold\">Trainer</span><span style=\"font-weight: bold\">(</span><span style=\"color: #808000; text-decoration-color: #808000\">limit_val_batches</span>=<span style=\"color: #008080; text-decoration-color: #008080; font-weight: bold\">1.0</span><span style=\"font-weight: bold\">)</span>` was configured so <span style=\"color: #008080; text-decoration-color: #008080; font-weight: bold\">100</span>% of the batches will be used..                  <a href=\"file:///usr/local/lib/python3.12/dist-packages/pytorch_lightning/trainer/setup.py\" target=\"_blank\"><span style=\"color: #7f7f7f; text-decoration-color: #7f7f7f\">setup.py</span></a><span style=\"color: #7f7f7f; text-decoration-color: #7f7f7f\">:</span><a href=\"file:///usr/local/lib/python3.12/dist-packages/pytorch_lightning/trainer/setup.py#114\" target=\"_blank\"><span style=\"color: #7f7f7f; text-decoration-color: #7f7f7f\">114</span></a>\n",
       "</pre>\n"
      ],
      "text/plain": [
       "`\u001b[1;35mTrainer\u001b[0m\u001b[1m(\u001b[0m\u001b[33mlimit_val_batches\u001b[0m=\u001b[1;36m1\u001b[0m\u001b[1;36m.0\u001b[0m\u001b[1m)\u001b[0m` was configured so \u001b[1;36m100\u001b[0m% of the batches will be used..                  \u001b]8;id=835317;file:///usr/local/lib/python3.12/dist-packages/pytorch_lightning/trainer/setup.py\u001b\\\u001b[2msetup.py\u001b[0m\u001b]8;;\u001b\\\u001b[2m:\u001b[0m\u001b]8;id=240570;file:///usr/local/lib/python3.12/dist-packages/pytorch_lightning/trainer/setup.py#114\u001b\\\u001b[2m114\u001b[0m\u001b]8;;\u001b\\\n"
      ]
     },
     "metadata": {},
     "output_type": "display_data"
    },
    {
     "data": {
      "text/html": [
       "<pre style=\"white-space:pre;overflow-x:auto;line-height:normal;font-family:Menlo,'DejaVu Sans Mono',consolas,'Courier New',monospace\">LOCAL_RANK: <span style=\"color: #008080; text-decoration-color: #008080; font-weight: bold\">0</span> - CUDA_VISIBLE_DEVICES: <span style=\"font-weight: bold\">[</span><span style=\"color: #008080; text-decoration-color: #008080; font-weight: bold\">0</span><span style=\"font-weight: bold\">]</span>                                                                <a href=\"file:///usr/local/lib/python3.12/dist-packages/pytorch_lightning/accelerators/cuda.py\" target=\"_blank\"><span style=\"color: #7f7f7f; text-decoration-color: #7f7f7f\">cuda.py</span></a><span style=\"color: #7f7f7f; text-decoration-color: #7f7f7f\">:</span><a href=\"file:///usr/local/lib/python3.12/dist-packages/pytorch_lightning/accelerators/cuda.py#61\" target=\"_blank\"><span style=\"color: #7f7f7f; text-decoration-color: #7f7f7f\">61</span></a>\n",
       "</pre>\n"
      ],
      "text/plain": [
       "LOCAL_RANK: \u001b[1;36m0\u001b[0m - CUDA_VISIBLE_DEVICES: \u001b[1m[\u001b[0m\u001b[1;36m0\u001b[0m\u001b[1m]\u001b[0m                                                                \u001b]8;id=385456;file:///usr/local/lib/python3.12/dist-packages/pytorch_lightning/accelerators/cuda.py\u001b\\\u001b[2mcuda.py\u001b[0m\u001b]8;;\u001b\\\u001b[2m:\u001b[0m\u001b]8;id=52615;file:///usr/local/lib/python3.12/dist-packages/pytorch_lightning/accelerators/cuda.py#61\u001b\\\u001b[2m61\u001b[0m\u001b]8;;\u001b\\\n"
      ]
     },
     "metadata": {},
     "output_type": "display_data"
    },
    {
     "data": {
      "text/html": [
       "<pre style=\"white-space:pre;overflow-x:auto;line-height:normal;font-family:Menlo,'DejaVu Sans Mono',consolas,'Courier New',monospace\">                                                                                               <a href=\"file:///usr/local/lib/python3.12/dist-packages/pytorch_lightning/callbacks/model_summary.py\" target=\"_blank\"><span style=\"color: #7f7f7f; text-decoration-color: #7f7f7f\">model_summary.py</span></a><span style=\"color: #7f7f7f; text-decoration-color: #7f7f7f\">:</span><a href=\"file:///usr/local/lib/python3.12/dist-packages/pytorch_lightning/callbacks/model_summary.py#104\" target=\"_blank\"><span style=\"color: #7f7f7f; text-decoration-color: #7f7f7f\">104</span></a>\n",
       "  | Name    | Type              | Params | Mode                                                <span style=\"color: #7f7f7f; text-decoration-color: #7f7f7f\">                    </span>\n",
       "------------------------------------------------------                                         <span style=\"color: #7f7f7f; text-decoration-color: #7f7f7f\">                    </span>\n",
       "<span style=\"color: #008080; text-decoration-color: #008080; font-weight: bold\">0</span> | model   | FlexibleUNet      | <span style=\"color: #008080; text-decoration-color: #008080; font-weight: bold\">70.7</span> M | train                                               <span style=\"color: #7f7f7f; text-decoration-color: #7f7f7f\">                    </span>\n",
       "<span style=\"color: #008080; text-decoration-color: #008080; font-weight: bold\">1</span> | loss_fn | DenseCrossEntropy | <span style=\"color: #008080; text-decoration-color: #008080; font-weight: bold\">0</span>      | train                                               <span style=\"color: #7f7f7f; text-decoration-color: #7f7f7f\">                    </span>\n",
       "<span style=\"color: #008080; text-decoration-color: #008080; font-weight: bold\">2</span> | mixup   | Mixup             | <span style=\"color: #008080; text-decoration-color: #008080; font-weight: bold\">0</span>      | train                                               <span style=\"color: #7f7f7f; text-decoration-color: #7f7f7f\">                    </span>\n",
       "------------------------------------------------------                                         <span style=\"color: #7f7f7f; text-decoration-color: #7f7f7f\">                    </span>\n",
       "<span style=\"color: #008080; text-decoration-color: #008080; font-weight: bold\">70.7</span> M    Trainable params                                                                     <span style=\"color: #7f7f7f; text-decoration-color: #7f7f7f\">                    </span>\n",
       "<span style=\"color: #008080; text-decoration-color: #008080; font-weight: bold\">0</span>         Non-trainable params                                                                 <span style=\"color: #7f7f7f; text-decoration-color: #7f7f7f\">                    </span>\n",
       "<span style=\"color: #008080; text-decoration-color: #008080; font-weight: bold\">70.7</span> M    Total params                                                                         <span style=\"color: #7f7f7f; text-decoration-color: #7f7f7f\">                    </span>\n",
       "<span style=\"color: #008080; text-decoration-color: #008080; font-weight: bold\">282.647</span>   Total estimated model params size <span style=\"font-weight: bold\">(</span>MB<span style=\"font-weight: bold\">)</span>                                               <span style=\"color: #7f7f7f; text-decoration-color: #7f7f7f\">                    </span>\n",
       "<span style=\"color: #008080; text-decoration-color: #008080; font-weight: bold\">212</span>       Modules in train mode                                                                <span style=\"color: #7f7f7f; text-decoration-color: #7f7f7f\">                    </span>\n",
       "<span style=\"color: #008080; text-decoration-color: #008080; font-weight: bold\">0</span>         Modules in eval mode                                                                 <span style=\"color: #7f7f7f; text-decoration-color: #7f7f7f\">                    </span>\n",
       "</pre>\n"
      ],
      "text/plain": [
       "                                                                                               \u001b]8;id=240167;file:///usr/local/lib/python3.12/dist-packages/pytorch_lightning/callbacks/model_summary.py\u001b\\\u001b[2mmodel_summary.py\u001b[0m\u001b]8;;\u001b\\\u001b[2m:\u001b[0m\u001b]8;id=580965;file:///usr/local/lib/python3.12/dist-packages/pytorch_lightning/callbacks/model_summary.py#104\u001b\\\u001b[2m104\u001b[0m\u001b]8;;\u001b\\\n",
       "  | Name    | Type              | Params | Mode                                                \u001b[2m                    \u001b[0m\n",
       "------------------------------------------------------                                         \u001b[2m                    \u001b[0m\n",
       "\u001b[1;36m0\u001b[0m | model   | FlexibleUNet      | \u001b[1;36m70.7\u001b[0m M | train                                               \u001b[2m                    \u001b[0m\n",
       "\u001b[1;36m1\u001b[0m | loss_fn | DenseCrossEntropy | \u001b[1;36m0\u001b[0m      | train                                               \u001b[2m                    \u001b[0m\n",
       "\u001b[1;36m2\u001b[0m | mixup   | Mixup             | \u001b[1;36m0\u001b[0m      | train                                               \u001b[2m                    \u001b[0m\n",
       "------------------------------------------------------                                         \u001b[2m                    \u001b[0m\n",
       "\u001b[1;36m70.7\u001b[0m M    Trainable params                                                                     \u001b[2m                    \u001b[0m\n",
       "\u001b[1;36m0\u001b[0m         Non-trainable params                                                                 \u001b[2m                    \u001b[0m\n",
       "\u001b[1;36m70.7\u001b[0m M    Total params                                                                         \u001b[2m                    \u001b[0m\n",
       "\u001b[1;36m282.647\u001b[0m   Total estimated model params size \u001b[1m(\u001b[0mMB\u001b[1m)\u001b[0m                                               \u001b[2m                    \u001b[0m\n",
       "\u001b[1;36m212\u001b[0m       Modules in train mode                                                                \u001b[2m                    \u001b[0m\n",
       "\u001b[1;36m0\u001b[0m         Modules in eval mode                                                                 \u001b[2m                    \u001b[0m\n"
      ]
     },
     "metadata": {},
     "output_type": "display_data"
    },
    {
     "name": "stdout",
     "output_type": "stream",
     "text": [
      "train_dataset length: 96\n",
      "val_dataset length: 1\n"
     ]
    },
    {
     "data": {
      "application/vnd.jupyter.widget-view+json": {
       "model_id": "a5f7cb55cbc04cca91749141bb40a5eb",
       "version_major": 2,
       "version_minor": 0
      },
      "text/plain": [
       "Training: |          | 0/? [00:00<?, ?it/s]"
      ]
     },
     "metadata": {},
     "output_type": "display_data"
    },
    {
     "data": {
      "application/vnd.jupyter.widget-view+json": {
       "model_id": "ea32cac17f184bbbb8128732aec94fa5",
       "version_major": 2,
       "version_minor": 0
      },
      "text/plain": [
       "Validation: |          | 0/? [00:00<?, ?it/s]"
      ]
     },
     "metadata": {},
     "output_type": "display_data"
    },
    {
     "name": "stdout",
     "output_type": "stream",
     "text": [
      "Predicting TS 16469\n"
     ]
    },
    {
     "name": "stderr",
     "output_type": "stream",
     "text": [
      "/usr/local/lib/python3.12/dist-packages/pytorch_lightning/utilities/data.py:78: Trying to infer the `batch_size` from an ambiguous collection. The batch size we found is 1. To avoid any miscalculations, use `self.log(..., batch_size=batch_size)`.\n"
     ]
    },
    {
     "name": "stdout",
     "output_type": "stream",
     "text": [
      "Best score threshold values {'ferritin-complex': 0.16, 'beta-galactosidase': 0.13, 'virus-like-capsid': 0.5, 'cytosolic-ribosome': 0.19, 'beta-amylase': 0.25, 'thyroglobulin': 0.18}\n",
      "{'score_ferritin-complex': 0.0, 'score_beta-galactosidase': 0.0, 'score_virus-like-capsid': 0.0, 'score_cytosolic-ribosome': 0.004812183315877375, 'score_beta-amylase': 0.0, 'score_thyroglobulin': 0.03546944858420268, 'score': np.float64(0.010821582926326106)}\n"
     ]
    },
    {
     "data": {
      "text/html": [
       "<pre style=\"white-space:pre;overflow-x:auto;line-height:normal;font-family:Menlo,'DejaVu Sans Mono',consolas,'Courier New',monospace\">`Trainer.fit` stopped: `<span style=\"color: #808000; text-decoration-color: #808000\">max_epochs</span>=<span style=\"color: #008080; text-decoration-color: #008080; font-weight: bold\">1</span>` reached.                                                      <a href=\"file:///usr/local/lib/python3.12/dist-packages/pytorch_lightning/loops/fit_loop.py\" target=\"_blank\"><span style=\"color: #7f7f7f; text-decoration-color: #7f7f7f\">fit_loop.py</span></a><span style=\"color: #7f7f7f; text-decoration-color: #7f7f7f\">:</span><a href=\"file:///usr/local/lib/python3.12/dist-packages/pytorch_lightning/loops/fit_loop.py#180\" target=\"_blank\"><span style=\"color: #7f7f7f; text-decoration-color: #7f7f7f\">180</span></a>\n",
       "</pre>\n"
      ],
      "text/plain": [
       "`Trainer.fit` stopped: `\u001b[33mmax_epochs\u001b[0m=\u001b[1;36m1\u001b[0m` reached.                                                      \u001b]8;id=472135;file:///usr/local/lib/python3.12/dist-packages/pytorch_lightning/loops/fit_loop.py\u001b\\\u001b[2mfit_loop.py\u001b[0m\u001b]8;;\u001b\\\u001b[2m:\u001b[0m\u001b]8;id=905756;file:///usr/local/lib/python3.12/dist-packages/pytorch_lightning/loops/fit_loop.py#180\u001b\\\u001b[2m180\u001b[0m\u001b]8;;\u001b\\\n"
      ]
     },
     "metadata": {},
     "output_type": "display_data"
    }
   ],
   "source": [
    "#Code for running model training in Jupyter with live printouts. You can also run the commands directly in a terminal.\n",
    "\n",
    "from topcup.cli.cli import cli\n",
    "\n",
    "training_outputs = os.path.abspath('./outputs_training')\n",
    "\n",
    "cli.main(\n",
    "    args=[\n",
    "        \"train\",\n",
    "        \"-c\", f\"{str(copick_config_path)}\",\n",
    "        \"-u\", \"data-portal\",\n",
    "        \"-tts\", \"16463,16464,16465,16466,16467,16468\",\n",
    "        \"-vts\", \"16469\",\n",
    "        \"-bs\", \"4\",\n",
    "        \"-n\", \"16\",  # use default value to replicate the performance\n",
    "        \"-o\", f\"{str(training_outputs)}\",\n",
    "        \"--pixelsize\", \"10.012\",\n",
    "        \"-tt\", \"wbp-denoised-denoiset-ctfdeconv\",\n",
    "        \"-v\", \"0\",\n",
    "        \"-e\", \"1\"\n",
    "    ],\n",
    "    standalone_mode=False,  # so Click doesn’t exit on exceptions\n",
    ")"
   ]
  },
  {
   "cell_type": "markdown",
   "metadata": {
    "id": "ror84XL9ejDV"
   },
   "source": [
    "## Analysis of Model Outputs\n",
    "\n",
    "The model will automatically track the validation performance and save the best checkpoint and history metrics inside the specified output directory. The evaluation score for each epoch will be shown in the printouts. The output directory can be changed using the `-o` flag.\n"
   ]
  },
  {
   "cell_type": "markdown",
   "metadata": {
    "id": "enG3q8GGflGv"
   },
   "source": [
    "## Summary\n",
    "\n",
    "In this tutorial we streamed in a copick configuration file, trained the topCUP model and saved the best checkpoints via CLI in the specific output directory.\n"
   ]
  },
  {
   "cell_type": "markdown",
   "metadata": {
    "id": "A7sWxXkEfr7x"
   },
   "source": [
    "## Contact and Acknowledgments\n",
    "\n",
    "For issues with this notebook please contact kevin.zhao@czii.org\n",
    "\n",
    "Special thank you to Christof Hankel for developing the segmenation models and Ermel Utz for developing copick.\n"
   ]
  },
  {
   "cell_type": "markdown",
   "metadata": {
    "id": "6RIWjiHrf1ft"
   },
   "source": [
    "## References\n",
    "\n",
    "- Peck, A., et al., (2025) A Realistic Phantom Dataset for Benchmarking Cryo-ET Data Annotation. Nature Methods. DOI: 10.1101/2024.11.04.621686"
   ]
  },
  {
   "cell_type": "markdown",
   "metadata": {
    "id": "_0XhyjvicrVp"
   },
   "source": [
    "## Responsible Use\n",
    "We are committed to advancing the responsible development and use of artificial intelligence. Please follow our [Acceptable Use Policy](https://virtualcellmodels.cziscience.com/acceptable-use-policy) when engaging with our services."
   ]
  }
 ],
 "metadata": {
  "accelerator": "GPU",
  "colab": {
   "gpuType": "T4",
   "provenance": []
  },
  "kernelspec": {
   "display_name": "topcup",
   "language": "python",
   "name": "topcup"
  },
  "language_info": {
   "codemirror_mode": {
    "name": "ipython",
    "version": 3
   },
   "file_extension": ".py",
   "mimetype": "text/x-python",
   "name": "python",
   "nbconvert_exporter": "python",
   "pygments_lexer": "ipython3",
   "version": "3.12.12"
  },
  "widgets": {
   "application/vnd.jupyter.widget-state+json": {
    "105c524890324d9c9bfd215bd1b83fb9": {
     "model_module": "@jupyter-widgets/controls",
     "model_module_version": "1.5.0",
     "model_name": "HTMLModel",
     "state": {
      "_dom_classes": [],
      "_model_module": "@jupyter-widgets/controls",
      "_model_module_version": "1.5.0",
      "_model_name": "HTMLModel",
      "_view_count": null,
      "_view_module": "@jupyter-widgets/controls",
      "_view_module_version": "1.5.0",
      "_view_name": "HTMLView",
      "description": "",
      "description_tooltip": null,
      "layout": "IPY_MODEL_a588b2140ac74efdbde62a04255f6c95",
      "placeholder": "​",
      "style": "IPY_MODEL_9efe26aaaf7a4409b935ec5ef93a95c2",
      "value": " 24/24 [19:04&lt;00:00,  0.02it/s, v_num=0, train_loss_step=1.060, val_loss_step=0.000, val_loss_epoch=0.000, val_score=0.0108, train_loss_epoch=1.490]"
     }
    },
    "2f630d6f0c4a40d9b92780e5b7d2509f": {
     "model_module": "@jupyter-widgets/base",
     "model_module_version": "1.2.0",
     "model_name": "LayoutModel",
     "state": {
      "_model_module": "@jupyter-widgets/base",
      "_model_module_version": "1.2.0",
      "_model_name": "LayoutModel",
      "_view_count": null,
      "_view_module": "@jupyter-widgets/base",
      "_view_module_version": "1.2.0",
      "_view_name": "LayoutView",
      "align_content": null,
      "align_items": null,
      "align_self": null,
      "border": null,
      "bottom": null,
      "display": null,
      "flex": "2",
      "flex_flow": null,
      "grid_area": null,
      "grid_auto_columns": null,
      "grid_auto_flow": null,
      "grid_auto_rows": null,
      "grid_column": null,
      "grid_gap": null,
      "grid_row": null,
      "grid_template_areas": null,
      "grid_template_columns": null,
      "grid_template_rows": null,
      "height": null,
      "justify_content": null,
      "justify_items": null,
      "left": null,
      "margin": null,
      "max_height": null,
      "max_width": null,
      "min_height": null,
      "min_width": null,
      "object_fit": null,
      "object_position": null,
      "order": null,
      "overflow": null,
      "overflow_x": null,
      "overflow_y": null,
      "padding": null,
      "right": null,
      "top": null,
      "visibility": null,
      "width": null
     }
    },
    "34c2c04052824ef5ab7a6e598274c86b": {
     "model_module": "@jupyter-widgets/controls",
     "model_module_version": "1.5.0",
     "model_name": "ProgressStyleModel",
     "state": {
      "_model_module": "@jupyter-widgets/controls",
      "_model_module_version": "1.5.0",
      "_model_name": "ProgressStyleModel",
      "_view_count": null,
      "_view_module": "@jupyter-widgets/base",
      "_view_module_version": "1.2.0",
      "_view_name": "StyleView",
      "bar_color": null,
      "description_width": ""
     }
    },
    "3c18d2b5f4e442948d3fb6964427029e": {
     "model_module": "@jupyter-widgets/controls",
     "model_module_version": "1.5.0",
     "model_name": "FloatProgressModel",
     "state": {
      "_dom_classes": [],
      "_model_module": "@jupyter-widgets/controls",
      "_model_module_version": "1.5.0",
      "_model_name": "FloatProgressModel",
      "_view_count": null,
      "_view_module": "@jupyter-widgets/controls",
      "_view_module_version": "1.5.0",
      "_view_name": "ProgressView",
      "bar_style": "",
      "description": "",
      "description_tooltip": null,
      "layout": "IPY_MODEL_c8ef7bef9329476b858bf36188f3d7cf",
      "max": 1,
      "min": 0,
      "orientation": "horizontal",
      "style": "IPY_MODEL_86282e7c3eba4912a7972f7280d067d7",
      "value": 1
     }
    },
    "4f8b7af919c8446eae3190c98e874892": {
     "model_module": "@jupyter-widgets/controls",
     "model_module_version": "1.5.0",
     "model_name": "DescriptionStyleModel",
     "state": {
      "_model_module": "@jupyter-widgets/controls",
      "_model_module_version": "1.5.0",
      "_model_name": "DescriptionStyleModel",
      "_view_count": null,
      "_view_module": "@jupyter-widgets/base",
      "_view_module_version": "1.2.0",
      "_view_name": "StyleView",
      "description_width": ""
     }
    },
    "5f1eda58a41241f6a2be76846de6e0ff": {
     "model_module": "@jupyter-widgets/controls",
     "model_module_version": "1.5.0",
     "model_name": "HTMLModel",
     "state": {
      "_dom_classes": [],
      "_model_module": "@jupyter-widgets/controls",
      "_model_module_version": "1.5.0",
      "_model_name": "HTMLModel",
      "_view_count": null,
      "_view_module": "@jupyter-widgets/controls",
      "_view_module_version": "1.5.0",
      "_view_name": "HTMLView",
      "description": "",
      "description_tooltip": null,
      "layout": "IPY_MODEL_d9c1e5c4e6f74d67820596f379f32e54",
      "placeholder": "​",
      "style": "IPY_MODEL_9e3a1a1015184461a3798eb1d57d4b38",
      "value": "Validation DataLoader 0: 100%"
     }
    },
    "62f761b7f00c48dc94cee0ea6a4fdcb6": {
     "model_module": "@jupyter-widgets/controls",
     "model_module_version": "1.5.0",
     "model_name": "DescriptionStyleModel",
     "state": {
      "_model_module": "@jupyter-widgets/controls",
      "_model_module_version": "1.5.0",
      "_model_name": "DescriptionStyleModel",
      "_view_count": null,
      "_view_module": "@jupyter-widgets/base",
      "_view_module_version": "1.2.0",
      "_view_name": "StyleView",
      "description_width": ""
     }
    },
    "8065faf943f04fe59a7a45e58ae24c71": {
     "model_module": "@jupyter-widgets/base",
     "model_module_version": "1.2.0",
     "model_name": "LayoutModel",
     "state": {
      "_model_module": "@jupyter-widgets/base",
      "_model_module_version": "1.2.0",
      "_model_name": "LayoutModel",
      "_view_count": null,
      "_view_module": "@jupyter-widgets/base",
      "_view_module_version": "1.2.0",
      "_view_name": "LayoutView",
      "align_content": null,
      "align_items": null,
      "align_self": null,
      "border": null,
      "bottom": null,
      "display": "inline-flex",
      "flex": null,
      "flex_flow": "row wrap",
      "grid_area": null,
      "grid_auto_columns": null,
      "grid_auto_flow": null,
      "grid_auto_rows": null,
      "grid_column": null,
      "grid_gap": null,
      "grid_row": null,
      "grid_template_areas": null,
      "grid_template_columns": null,
      "grid_template_rows": null,
      "height": null,
      "justify_content": null,
      "justify_items": null,
      "left": null,
      "margin": null,
      "max_height": null,
      "max_width": null,
      "min_height": null,
      "min_width": null,
      "object_fit": null,
      "object_position": null,
      "order": null,
      "overflow": null,
      "overflow_x": null,
      "overflow_y": null,
      "padding": null,
      "right": null,
      "top": null,
      "visibility": "hidden",
      "width": "100%"
     }
    },
    "86282e7c3eba4912a7972f7280d067d7": {
     "model_module": "@jupyter-widgets/controls",
     "model_module_version": "1.5.0",
     "model_name": "ProgressStyleModel",
     "state": {
      "_model_module": "@jupyter-widgets/controls",
      "_model_module_version": "1.5.0",
      "_model_name": "ProgressStyleModel",
      "_view_count": null,
      "_view_module": "@jupyter-widgets/base",
      "_view_module_version": "1.2.0",
      "_view_name": "StyleView",
      "bar_color": null,
      "description_width": ""
     }
    },
    "90f8910be51b4d6e9176c58b7dee8bf8": {
     "model_module": "@jupyter-widgets/base",
     "model_module_version": "1.2.0",
     "model_name": "LayoutModel",
     "state": {
      "_model_module": "@jupyter-widgets/base",
      "_model_module_version": "1.2.0",
      "_model_name": "LayoutModel",
      "_view_count": null,
      "_view_module": "@jupyter-widgets/base",
      "_view_module_version": "1.2.0",
      "_view_name": "LayoutView",
      "align_content": null,
      "align_items": null,
      "align_self": null,
      "border": null,
      "bottom": null,
      "display": null,
      "flex": null,
      "flex_flow": null,
      "grid_area": null,
      "grid_auto_columns": null,
      "grid_auto_flow": null,
      "grid_auto_rows": null,
      "grid_column": null,
      "grid_gap": null,
      "grid_row": null,
      "grid_template_areas": null,
      "grid_template_columns": null,
      "grid_template_rows": null,
      "height": null,
      "justify_content": null,
      "justify_items": null,
      "left": null,
      "margin": null,
      "max_height": null,
      "max_width": null,
      "min_height": null,
      "min_width": null,
      "object_fit": null,
      "object_position": null,
      "order": null,
      "overflow": null,
      "overflow_x": null,
      "overflow_y": null,
      "padding": null,
      "right": null,
      "top": null,
      "visibility": null,
      "width": null
     }
    },
    "9e3a1a1015184461a3798eb1d57d4b38": {
     "model_module": "@jupyter-widgets/controls",
     "model_module_version": "1.5.0",
     "model_name": "DescriptionStyleModel",
     "state": {
      "_model_module": "@jupyter-widgets/controls",
      "_model_module_version": "1.5.0",
      "_model_name": "DescriptionStyleModel",
      "_view_count": null,
      "_view_module": "@jupyter-widgets/base",
      "_view_module_version": "1.2.0",
      "_view_name": "StyleView",
      "description_width": ""
     }
    },
    "9efe26aaaf7a4409b935ec5ef93a95c2": {
     "model_module": "@jupyter-widgets/controls",
     "model_module_version": "1.5.0",
     "model_name": "DescriptionStyleModel",
     "state": {
      "_model_module": "@jupyter-widgets/controls",
      "_model_module_version": "1.5.0",
      "_model_name": "DescriptionStyleModel",
      "_view_count": null,
      "_view_module": "@jupyter-widgets/base",
      "_view_module_version": "1.2.0",
      "_view_name": "StyleView",
      "description_width": ""
     }
    },
    "a588b2140ac74efdbde62a04255f6c95": {
     "model_module": "@jupyter-widgets/base",
     "model_module_version": "1.2.0",
     "model_name": "LayoutModel",
     "state": {
      "_model_module": "@jupyter-widgets/base",
      "_model_module_version": "1.2.0",
      "_model_name": "LayoutModel",
      "_view_count": null,
      "_view_module": "@jupyter-widgets/base",
      "_view_module_version": "1.2.0",
      "_view_name": "LayoutView",
      "align_content": null,
      "align_items": null,
      "align_self": null,
      "border": null,
      "bottom": null,
      "display": null,
      "flex": null,
      "flex_flow": null,
      "grid_area": null,
      "grid_auto_columns": null,
      "grid_auto_flow": null,
      "grid_auto_rows": null,
      "grid_column": null,
      "grid_gap": null,
      "grid_row": null,
      "grid_template_areas": null,
      "grid_template_columns": null,
      "grid_template_rows": null,
      "height": null,
      "justify_content": null,
      "justify_items": null,
      "left": null,
      "margin": null,
      "max_height": null,
      "max_width": null,
      "min_height": null,
      "min_width": null,
      "object_fit": null,
      "object_position": null,
      "order": null,
      "overflow": null,
      "overflow_x": null,
      "overflow_y": null,
      "padding": null,
      "right": null,
      "top": null,
      "visibility": null,
      "width": null
     }
    },
    "a5f7cb55cbc04cca91749141bb40a5eb": {
     "model_module": "@jupyter-widgets/controls",
     "model_module_version": "1.5.0",
     "model_name": "HBoxModel",
     "state": {
      "_dom_classes": [],
      "_model_module": "@jupyter-widgets/controls",
      "_model_module_version": "1.5.0",
      "_model_name": "HBoxModel",
      "_view_count": null,
      "_view_module": "@jupyter-widgets/controls",
      "_view_module_version": "1.5.0",
      "_view_name": "HBoxView",
      "box_style": "",
      "children": [
       "IPY_MODEL_f28c06476c514cf0bc065f0e319be724",
       "IPY_MODEL_ffe1c7dcdfd0495dbe2b0016371682ac",
       "IPY_MODEL_105c524890324d9c9bfd215bd1b83fb9"
      ],
      "layout": "IPY_MODEL_aef599b6b4534805b5c4ba0222421d75"
     }
    },
    "aef599b6b4534805b5c4ba0222421d75": {
     "model_module": "@jupyter-widgets/base",
     "model_module_version": "1.2.0",
     "model_name": "LayoutModel",
     "state": {
      "_model_module": "@jupyter-widgets/base",
      "_model_module_version": "1.2.0",
      "_model_name": "LayoutModel",
      "_view_count": null,
      "_view_module": "@jupyter-widgets/base",
      "_view_module_version": "1.2.0",
      "_view_name": "LayoutView",
      "align_content": null,
      "align_items": null,
      "align_self": null,
      "border": null,
      "bottom": null,
      "display": "inline-flex",
      "flex": null,
      "flex_flow": "row wrap",
      "grid_area": null,
      "grid_auto_columns": null,
      "grid_auto_flow": null,
      "grid_auto_rows": null,
      "grid_column": null,
      "grid_gap": null,
      "grid_row": null,
      "grid_template_areas": null,
      "grid_template_columns": null,
      "grid_template_rows": null,
      "height": null,
      "justify_content": null,
      "justify_items": null,
      "left": null,
      "margin": null,
      "max_height": null,
      "max_width": null,
      "min_height": null,
      "min_width": null,
      "object_fit": null,
      "object_position": null,
      "order": null,
      "overflow": null,
      "overflow_x": null,
      "overflow_y": null,
      "padding": null,
      "right": null,
      "top": null,
      "visibility": null,
      "width": "100%"
     }
    },
    "c8ef7bef9329476b858bf36188f3d7cf": {
     "model_module": "@jupyter-widgets/base",
     "model_module_version": "1.2.0",
     "model_name": "LayoutModel",
     "state": {
      "_model_module": "@jupyter-widgets/base",
      "_model_module_version": "1.2.0",
      "_model_name": "LayoutModel",
      "_view_count": null,
      "_view_module": "@jupyter-widgets/base",
      "_view_module_version": "1.2.0",
      "_view_name": "LayoutView",
      "align_content": null,
      "align_items": null,
      "align_self": null,
      "border": null,
      "bottom": null,
      "display": null,
      "flex": "2",
      "flex_flow": null,
      "grid_area": null,
      "grid_auto_columns": null,
      "grid_auto_flow": null,
      "grid_auto_rows": null,
      "grid_column": null,
      "grid_gap": null,
      "grid_row": null,
      "grid_template_areas": null,
      "grid_template_columns": null,
      "grid_template_rows": null,
      "height": null,
      "justify_content": null,
      "justify_items": null,
      "left": null,
      "margin": null,
      "max_height": null,
      "max_width": null,
      "min_height": null,
      "min_width": null,
      "object_fit": null,
      "object_position": null,
      "order": null,
      "overflow": null,
      "overflow_x": null,
      "overflow_y": null,
      "padding": null,
      "right": null,
      "top": null,
      "visibility": null,
      "width": null
     }
    },
    "c9c917c4e4d04c509b0b6a8e6cdee9ca": {
     "model_module": "@jupyter-widgets/base",
     "model_module_version": "1.2.0",
     "model_name": "LayoutModel",
     "state": {
      "_model_module": "@jupyter-widgets/base",
      "_model_module_version": "1.2.0",
      "_model_name": "LayoutModel",
      "_view_count": null,
      "_view_module": "@jupyter-widgets/base",
      "_view_module_version": "1.2.0",
      "_view_name": "LayoutView",
      "align_content": null,
      "align_items": null,
      "align_self": null,
      "border": null,
      "bottom": null,
      "display": null,
      "flex": null,
      "flex_flow": null,
      "grid_area": null,
      "grid_auto_columns": null,
      "grid_auto_flow": null,
      "grid_auto_rows": null,
      "grid_column": null,
      "grid_gap": null,
      "grid_row": null,
      "grid_template_areas": null,
      "grid_template_columns": null,
      "grid_template_rows": null,
      "height": null,
      "justify_content": null,
      "justify_items": null,
      "left": null,
      "margin": null,
      "max_height": null,
      "max_width": null,
      "min_height": null,
      "min_width": null,
      "object_fit": null,
      "object_position": null,
      "order": null,
      "overflow": null,
      "overflow_x": null,
      "overflow_y": null,
      "padding": null,
      "right": null,
      "top": null,
      "visibility": null,
      "width": null
     }
    },
    "ca0dd6b6e903497887d975e860feee8e": {
     "model_module": "@jupyter-widgets/controls",
     "model_module_version": "1.5.0",
     "model_name": "HTMLModel",
     "state": {
      "_dom_classes": [],
      "_model_module": "@jupyter-widgets/controls",
      "_model_module_version": "1.5.0",
      "_model_name": "HTMLModel",
      "_view_count": null,
      "_view_module": "@jupyter-widgets/controls",
      "_view_module_version": "1.5.0",
      "_view_name": "HTMLView",
      "description": "",
      "description_tooltip": null,
      "layout": "IPY_MODEL_90f8910be51b4d6e9176c58b7dee8bf8",
      "placeholder": "​",
      "style": "IPY_MODEL_62f761b7f00c48dc94cee0ea6a4fdcb6",
      "value": " 1/1 [00:23&lt;00:00,  0.04it/s]"
     }
    },
    "d9c1e5c4e6f74d67820596f379f32e54": {
     "model_module": "@jupyter-widgets/base",
     "model_module_version": "1.2.0",
     "model_name": "LayoutModel",
     "state": {
      "_model_module": "@jupyter-widgets/base",
      "_model_module_version": "1.2.0",
      "_model_name": "LayoutModel",
      "_view_count": null,
      "_view_module": "@jupyter-widgets/base",
      "_view_module_version": "1.2.0",
      "_view_name": "LayoutView",
      "align_content": null,
      "align_items": null,
      "align_self": null,
      "border": null,
      "bottom": null,
      "display": null,
      "flex": null,
      "flex_flow": null,
      "grid_area": null,
      "grid_auto_columns": null,
      "grid_auto_flow": null,
      "grid_auto_rows": null,
      "grid_column": null,
      "grid_gap": null,
      "grid_row": null,
      "grid_template_areas": null,
      "grid_template_columns": null,
      "grid_template_rows": null,
      "height": null,
      "justify_content": null,
      "justify_items": null,
      "left": null,
      "margin": null,
      "max_height": null,
      "max_width": null,
      "min_height": null,
      "min_width": null,
      "object_fit": null,
      "object_position": null,
      "order": null,
      "overflow": null,
      "overflow_x": null,
      "overflow_y": null,
      "padding": null,
      "right": null,
      "top": null,
      "visibility": null,
      "width": null
     }
    },
    "ea32cac17f184bbbb8128732aec94fa5": {
     "model_module": "@jupyter-widgets/controls",
     "model_module_version": "1.5.0",
     "model_name": "HBoxModel",
     "state": {
      "_dom_classes": [],
      "_model_module": "@jupyter-widgets/controls",
      "_model_module_version": "1.5.0",
      "_model_name": "HBoxModel",
      "_view_count": null,
      "_view_module": "@jupyter-widgets/controls",
      "_view_module_version": "1.5.0",
      "_view_name": "HBoxView",
      "box_style": "",
      "children": [
       "IPY_MODEL_5f1eda58a41241f6a2be76846de6e0ff",
       "IPY_MODEL_3c18d2b5f4e442948d3fb6964427029e",
       "IPY_MODEL_ca0dd6b6e903497887d975e860feee8e"
      ],
      "layout": "IPY_MODEL_8065faf943f04fe59a7a45e58ae24c71"
     }
    },
    "f28c06476c514cf0bc065f0e319be724": {
     "model_module": "@jupyter-widgets/controls",
     "model_module_version": "1.5.0",
     "model_name": "HTMLModel",
     "state": {
      "_dom_classes": [],
      "_model_module": "@jupyter-widgets/controls",
      "_model_module_version": "1.5.0",
      "_model_name": "HTMLModel",
      "_view_count": null,
      "_view_module": "@jupyter-widgets/controls",
      "_view_module_version": "1.5.0",
      "_view_name": "HTMLView",
      "description": "",
      "description_tooltip": null,
      "layout": "IPY_MODEL_c9c917c4e4d04c509b0b6a8e6cdee9ca",
      "placeholder": "​",
      "style": "IPY_MODEL_4f8b7af919c8446eae3190c98e874892",
      "value": "Epoch 0: 100%"
     }
    },
    "ffe1c7dcdfd0495dbe2b0016371682ac": {
     "model_module": "@jupyter-widgets/controls",
     "model_module_version": "1.5.0",
     "model_name": "FloatProgressModel",
     "state": {
      "_dom_classes": [],
      "_model_module": "@jupyter-widgets/controls",
      "_model_module_version": "1.5.0",
      "_model_name": "FloatProgressModel",
      "_view_count": null,
      "_view_module": "@jupyter-widgets/controls",
      "_view_module_version": "1.5.0",
      "_view_name": "ProgressView",
      "bar_style": "success",
      "description": "",
      "description_tooltip": null,
      "layout": "IPY_MODEL_2f630d6f0c4a40d9b92780e5b7d2509f",
      "max": 24,
      "min": 0,
      "orientation": "horizontal",
      "style": "IPY_MODEL_34c2c04052824ef5ab7a6e598274c86b",
      "value": 24
     }
    }
   }
  }
 },
 "nbformat": 4,
 "nbformat_minor": 4
}
