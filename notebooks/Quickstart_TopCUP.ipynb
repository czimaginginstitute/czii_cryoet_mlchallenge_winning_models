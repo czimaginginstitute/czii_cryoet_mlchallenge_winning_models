{
 "cells": [
  {
   "cell_type": "markdown",
   "metadata": {
    "id": "JT5SZxmxZLZE"
   },
   "source": [
    "# Quickstart: TopCUP\n",
    "\n",
    "**Estimated time to complete:** 5 minutes"
   ]
  },
  {
   "cell_type": "markdown",
   "metadata": {
    "id": "BbeoPlg5aCnw"
   },
   "source": [
    "## Learning Goals\n",
    "\n",
    "By the end of this quickstart you will be able to:\n",
    "* Create a copick configuration file for loading the cryoET dataset.\n",
    "* Run the TopCUP model to extract particle locations via its CLI."
   ]
  },
  {
   "cell_type": "markdown",
   "metadata": {
    "id": "Bb7T-ymlaOKy"
   },
   "source": [
    "## Prerequisites\n",
    "\n",
    "* The TopCUP model requires `python>=3.10`. At the time of publication, Colab defaults to Python 3.12\n",
    "* This model requires a minimum T4 GPU to run.\n",
    "\n"
   ]
  },
  {
   "cell_type": "markdown",
   "metadata": {
    "id": "pqgtQsXOayO7"
   },
   "source": [
    "## Introduction\n",
    "\n",
    "The Top CryoET U-Net Picker (TopCUP) is a 3D U-Net–based ensemble model designed for particle picking in cryo-electron tomography (cryoET) volumes.\n",
    "It uses a segmentation heatmap approach to identify particle locations.\n",
    "TopCUP is fully integrated with copick — a flexible cryoET dataset API developed at the Chan Zuckerberg Imaging Institute (CZII).\n",
    "This integration makes it easy to apply the model directly to any cryoET dataset in copick format. This quickstart will walk you through creating a copick configuration file for loading the cryoET dataset and then how to run the TopCUP model via its CLI in order to extract particle locations.\n",
    "\n",
    "For this tutorial, we’ll use 3 tomograms from the Private Test Dataset (Dataset ID: DS-10446).\n",
    "Now that this dataset is publicly available on the CZ CryoET Data Portal,\n",
    "we can stream it directly using copick and cryoet portal APIs.\n",
    "\n",
    "* Inputs: copick configuration file (in this quickstart, we will stream this in)\n",
    "* Outputs: The model will automatically save the particle picks (locations in Angstrom) as a CSV file inside the specified output directory\n",
    "\n",
    "\n"
   ]
  },
  {
   "cell_type": "markdown",
   "metadata": {
    "id": "Bg4fKuJ8sp_P"
   },
   "source": [
    "## Create copick configuration file\n",
    "\n",
    "The only input required is a copick configuration file.\n",
    "\n",
    "The copick configuration file must define **pickable objects** (i.e., the protein complexes you want to detect) and **three** key metadata parameters for each object:\n",
    "* ```score_weight```: weight for each class in the DenseCrossEntropy loss\n",
    "* ```score_threshold```: threshold to filter final picks per class, reducing false positives\n",
    "* ```score_weight```: weight for each class in the F-beta score evaluation\n",
    "\n",
    "You can find additional instructions and template configurations for accessing datasets across different platforms from the official copick [page](https://copick.github.io/copick/examples/overview/).\n",
    "\n",
    "An example of a copick file is included below:\n",
    "\n",
    "```\n",
    "{\n",
    "    \"name\": \"Phantom Dataset\",\n",
    "    \"description\": \"CZII ML Challenge Training dataset\",\n",
    "    \"version\": \"1.0.1\",\n",
    "    \"pickable_objects\": [\n",
    "        {\n",
    "            \"name\": \"apo-ferritin\",\n",
    "            \"is_particle\": true,\n",
    "            \"pdb_id\": \"4V1W\",\n",
    "            \"label\": 1,\n",
    "            \"color\": [  0, 117, 220, 255],\n",
    "            \"radius\": 60,\n",
    "            \"map_threshold\": 0.0418,\n",
    "            \"metadata\": {\n",
    "                \"score_weight\": 1,\n",
    "                \"score_threshold\": 0.16,\n",
    "                \"class_loss_weight\": 256\n",
    "            }\n",
    "        },\n",
    "        {\n",
    "            \"name\": \"beta-amylase\",\n",
    "            \"is_particle\": true,\n",
    "            \"pdb_id\": \"1FA2\",\n",
    "            \"label\": 2,\n",
    "            \"color\": [153,  63,   0, 255],\n",
    "            \"radius\": 65,\n",
    "            \"map_threshold\": 0.035,\n",
    "            \"metadata\": {\n",
    "                \"score_weight\": 0,\n",
    "                \"score_threshold\": 0.25,\n",
    "                \"class_loss_weight\": 256\n",
    "            }\n",
    "        },\n",
    "        {\n",
    "            \"name\": \"beta-galactosidase\",\n",
    "            \"is_particle\": true,\n",
    "            \"pdb_id\": \"6X1Q\",\n",
    "            \"label\": 3,\n",
    "            \"color\": [ 76,   0,  92, 255],\n",
    "            \"radius\": 90,\n",
    "            \"map_threshold\": 0.0578,\n",
    "            \"metadata\": {\n",
    "                \"score_weight\": 2,\n",
    "                \"score_threshold\": 0.13,\n",
    "                \"class_loss_weight\": 256\n",
    "            }\n",
    "        },\n",
    "        {\n",
    "            \"name\": \"ribosome\",\n",
    "            \"is_particle\": true,\n",
    "            \"pdb_id\": \"6EK0\",\n",
    "            \"label\": 4,\n",
    "            \"color\": [  0,  92,  49, 255],\n",
    "            \"radius\": 150,\n",
    "            \"map_threshold\": 0.0374,\n",
    "            \"metadata\": {\n",
    "                \"score_weight\": 1,\n",
    "                \"score_threshold\": 0.19,\n",
    "                \"class_loss_weight\": 256\n",
    "            }\n",
    "        },\n",
    "        {\n",
    "            \"name\": \"thyroglobulin\",\n",
    "            \"is_particle\": true,\n",
    "            \"pdb_id\": \"6SCJ\",\n",
    "            \"label\": 5,\n",
    "            \"color\": [ 43, 206,  72, 255],\n",
    "            \"radius\": 130,\n",
    "            \"map_threshold\": 0.0278,\n",
    "            \"metadata\": {\n",
    "                \"score_weight\": 2,\n",
    "                \"score_threshold\": 0.18,\n",
    "                \"class_loss_weight\": 256\n",
    "            }\n",
    "        },\n",
    "        {\n",
    "            \"name\": \"virus-like-particle\",\n",
    "            \"is_particle\": true,\n",
    "            \"label\": 6,\n",
    "            \"color\": [255, 204, 153, 255],\n",
    "            \"radius\": 135,\n",
    "            \"map_threshold\": 0.201,\n",
    "            \"metadata\": {\n",
    "                \"score_weight\": 1,\n",
    "                \"score_threshold\": 0.5,\n",
    "                \"class_loss_weight\": 256\n",
    "            }\n",
    "        }\n",
    "    ],\n",
    "    \"config_type\": \"filesystem\",\n",
    "    \"overlay_root\": \"local:///PATH/TO/EXTRACTED/PROJECT/\",\n",
    "    \"static_root\": \"local:///PATH/TO/EXTRACTED/PROJECT/\"\n",
    "}\n",
    "```"
   ]
  },
  {
   "cell_type": "markdown",
   "metadata": {
    "id": "RBR_bK6hpkL9"
   },
   "source": [
    "## Installation of model\n",
    "\n",
    "First, download the Git repository, which includes necessary packages."
   ]
  },
  {
   "cell_type": "code",
   "execution_count": 8,
   "metadata": {
    "colab": {
     "base_uri": "https://localhost:8080/"
    },
    "id": "7_rgHZSR5Owk",
    "outputId": "53775d4a-3aba-4108-8fdb-5191d3ea80c9",
    "tags": []
   },
   "outputs": [],
   "source": [
    "!pip install git+https://github.com/czimaginginstitute/czii_cryoet_mlchallenge_winning_models.git"
   ]
  },
  {
   "cell_type": "markdown",
   "metadata": {
    "id": "vku05e2q0OPj"
   },
   "source": [
    "When using datasets from the cryoET data portal, we can automatically generate a copick configuration file from copick API, and add metadata for each particles. The code below adds metadata and generates a copick file."
   ]
  },
  {
   "cell_type": "code",
   "execution_count": 3,
   "metadata": {
    "id": "ZXuhgBxR5KeF"
   },
   "outputs": [],
   "source": [
    "import os, copick\n",
    "\n",
    "#metadata for pickable objects/particles\n",
    "metadata = {\n",
    "    \"ferritin-complex\": {\n",
    "        \"score_weight\": 1,\n",
    "        \"score_threshold\": 0.16,\n",
    "        \"class_loss_weight\": 256\n",
    "    },\n",
    "    \"thyroglobulin\": {\n",
    "        \"score_weight\": 2,\n",
    "        \"score_threshold\": 0.18,\n",
    "        \"class_loss_weight\": 256\n",
    "    },\n",
    "    \"beta-galactosidase\": {\n",
    "        \"score_weight\": 2,\n",
    "        \"score_threshold\": 0.13,\n",
    "        \"class_loss_weight\": 256\n",
    "    },\n",
    "    \"beta-amylase\": {\n",
    "        \"score_weight\": 0,\n",
    "        \"score_threshold\": 0.25,\n",
    "        \"class_loss_weight\": 256\n",
    "    },\n",
    "    \"cytosolic-ribosome\": {\n",
    "        \"score_weight\": 1,\n",
    "        \"score_threshold\": 0.19,\n",
    "        \"class_loss_weight\": 256\n",
    "    },\n",
    "    \"virus-like-capsid\": {\n",
    "        \"score_weight\": 1,\n",
    "        \"score_threshold\": 0.5,\n",
    "        \"class_loss_weight\": 256\n",
    "    }\n",
    "}\n",
    "\n",
    "#stream in the copick file for our selected protein complexes\n",
    "copick_config_path = os.path.abspath('./copick_config_portal.json')\n",
    "overlay_path = os.path.abspath('./tmp_overlay')\n",
    "copick_root = copick.from_czcdp_datasets(\n",
    "    [10446], # ML Challenge private test dataset\n",
    "    overlay_path,\n",
    "    {'auto_mkdir': True}, #overlay_root, self-defined\n",
    "    output_path = copick_config_path,\n",
    ")\n",
    "\n",
    "# only consider the 6 particles\n",
    "config_pickable_objects = []\n",
    "for p in copick_root.config.pickable_objects:\n",
    "    if p.name in metadata:\n",
    "        p.metadata = metadata[p.name]\n",
    "        config_pickable_objects.append(p)\n",
    "\n",
    "copick_root.config.pickable_objects = config_pickable_objects\n",
    "#save the copick config for later use\n",
    "copick_root.save_config(copick_config_path)"
   ]
  },
  {
   "cell_type": "markdown",
   "metadata": {
    "id": "8-idAnq25KeG"
   },
   "source": [
    "### Additional Copick Command Options\n",
    "You can explore dataset-specific options such as `run_names`, `pixelsize`, and `tomo_type` using the copick API."
   ]
  },
  {
   "cell_type": "code",
   "execution_count": 4,
   "metadata": {
    "colab": {
     "base_uri": "https://localhost:8080/"
    },
    "id": "67iBQx255KeG",
    "outputId": "33690a00-89e7-4816-ae02-ad48dffe646e"
   },
   "outputs": [
    {
     "name": "stdout",
     "output_type": "stream",
     "text": [
      "run name: 17803, available voxelsize/pixelsize: 4.99,10.012 A\n",
      "run name: 17804, available voxelsize/pixelsize: 4.99,10.012 A\n",
      "run name: 17805, available voxelsize/pixelsize: 4.99,10.012 A\n",
      "run name: 17806, available voxelsize/pixelsize: 4.99,10.012 A\n",
      "run name: 17807, available voxelsize/pixelsize: 4.99,10.012 A\n"
     ]
    }
   ],
   "source": [
    "import copick\n",
    "\n",
    "# Check available run names, show first 5 tomograms\n",
    "for run in copick_root.runs[:5]:\n",
    "    pss = [str(vs.voxel_size) for vs in run.voxel_spacings]\n",
    "    ps =','.join(set(pss))\n",
    "    print(f\"run name: {run.name}, available voxelsize/pixelsize: {ps} A\")"
   ]
  },
  {
   "cell_type": "code",
   "execution_count": 5,
   "metadata": {
    "colab": {
     "base_uri": "https://localhost:8080/"
    },
    "id": "EaLbS0hJ5KeG",
    "outputId": "1743d55f-cffb-46a7-cc4a-58cb81abeadc"
   },
   "outputs": [
    {
     "name": "stdout",
     "output_type": "stream",
     "text": [
      "run 17803 has tomogram_type: wbp-denoised-denoiset-ctfdeconv,wbp-filtered-ctfdeconv\n"
     ]
    }
   ],
   "source": [
    "# Get a single run\n",
    "run = copick_root.get_run('17803')\n",
    "voxel_spacing_obj = run.get_voxel_spacing(10.012)\n",
    "\n",
    "# Check available reconstruction_type\n",
    "tts = [t.tomo_type for t in voxel_spacing_obj.tomograms]\n",
    "tt = ','.join(tts)\n",
    "print(f'run {run.name} has tomogram_type: {tt}')"
   ]
  },
  {
   "cell_type": "markdown",
   "metadata": {
    "id": "3PqqRcqDc_LG"
   },
   "source": [
    "## Run Model Inference\n",
    "\n",
    "To explore the available options for running TopCUP, use the `--help` flag. In your terminal, run `topcup inference --help`. This will display all command-line options and arguments for running TopCUP inference, see below:\n",
    "\n",
    "```\n",
    "Usage: topcup inference [OPTIONS]\n",
    "\n",
    "Options:\n",
    "  -c, --copick_config FILE        copick config file path  [required]\n",
    "  -ts, --run_names TEXT           Tomogram dataset run names\n",
    "  -bs, --batch_size INTEGER       batch size for data loader\n",
    "  -p, --pretrained_weights TEXT   Pretrained weights file paths (use comma for\n",
    "                                  multiple paths). Default is None.\n",
    "  -pa, --pattern TEXT             The key for pattern matching checkpoints.\n",
    "                                  Default is *.ckpt\n",
    "  --pixelsize FLOAT               Pixelsize in angstrom. Default is 10.0A.\n",
    "  -tt, --tomo_type TEXT\n",
    "                                  Tomogram type. Default is denoised.\n",
    "  -u, --user_id TEXT              Needed for training, the user_id used for\n",
    "                                  the ground truth picks.\n",
    "  -o, --output_dir TEXT           output dir for saving prediction results\n",
    "                                  (csv).\n",
    "  -g, --gpus INTEGER              Number of GPUs for inference. Default is 1.\n",
    "  -gt, --has_ground_truth BOOLEAN\n",
    "                                  Inference with ground truth annoatations\n",
    "  -h, --help                      Show this message and exit.\n",
    "```"
   ]
  },
  {
   "cell_type": "markdown",
   "metadata": {
    "id": "gxfdBfBh5KeF"
   },
   "source": [
    "### Download Checkpoints\n"
   ]
  },
  {
   "cell_type": "code",
   "execution_count": 6,
   "metadata": {
    "colab": {
     "base_uri": "https://localhost:8080/"
    },
    "id": "4eSphb6p5KeG",
    "outputId": "00cbd433-3b8d-4190-de08-fcac520c73cc"
   },
   "outputs": [
    {
     "name": "stdout",
     "output_type": "stream",
     "text": [
      "Downloading topcup_phantom_6_tomograms.ckpt ...\n",
      "→ Saved to checkpoints/topcup_phantom_6_tomograms.ckpt\n",
      "Downloading topcup_phantom_12_tomograms.ckpt ...\n",
      "→ Saved to checkpoints/topcup_phantom_12_tomograms.ckpt\n",
      "Downloading topcup_phantom_24_tomograms.ckpt ...\n",
      "→ Saved to checkpoints/topcup_phantom_24_tomograms.ckpt\n"
     ]
    }
   ],
   "source": [
    "import urllib.request\n",
    "import os\n",
    "from pathlib import Path\n",
    "\n",
    "TOPCUP_CHECKPOINTS_URL = [\n",
    "    \"https://huggingface.co/kevinzhao/TopCUP/resolve/main/topcup_weights/topcup_phantom_6_tomograms.ckpt\",\n",
    "    \"https://huggingface.co/kevinzhao/TopCUP/resolve/main/topcup_weights/topcup_phantom_12_tomograms.ckpt\",\n",
    "    \"https://huggingface.co/kevinzhao/TopCUP/resolve/main/topcup_weights/topcup_phantom_24_tomograms.ckpt\",\n",
    "]\n",
    "\n",
    "# local directory to save the checkpoints\n",
    "cache = Path(\"./checkpoints\")\n",
    "cache.mkdir(parents=True, exist_ok=True)\n",
    "\n",
    "for url in TOPCUP_CHECKPOINTS_URL:\n",
    "    filename = url.split(\"/\")[-1]\n",
    "    dest = cache / filename\n",
    "    if not dest.exists():\n",
    "        print(f\"Downloading {filename} ...\")\n",
    "        try:\n",
    "            urllib.request.urlretrieve(url, dest)\n",
    "            print(f\"→ Saved to {dest}\")\n",
    "        except Exception as e:\n",
    "            print(f\"Failed to download {url}: {e}\")\n",
    "    else:\n",
    "        print(f\"Already exists: {dest}\")"
   ]
  },
  {
   "cell_type": "markdown",
   "metadata": {
    "id": "IGJS9NtY5KeG"
   },
   "source": [
    "### Extract Protein Locations"
   ]
  },
  {
   "cell_type": "code",
   "execution_count": 7,
   "metadata": {
    "colab": {
     "base_uri": "https://localhost:8080/",
     "height": 344,
     "referenced_widgets": [
      "70b55228e2ea4eb0a82c92f06c4c1e0f",
      "1476a45039aa47d5a81f42d09b7f3af2",
      "1dc7111dadb9475ca3faf3fd92e98d6e",
      "94c7ff0a4b9d49a7a0b3ff381556240b",
      "a317c6e7f4c64773be37e2f4cf60d407",
      "0574d51041374786937433d97e706b9f",
      "7bdf363efc274d59a941752663974601",
      "5d0aed0bad774b62a2acc34216d45dfa",
      "b82d761feae643c5a5247b7fc6f59fe2",
      "470f4970a8394d7485441095293eec6b",
      "e7c3dbe2b439420a8cf12a360048c4b8"
     ]
    },
    "id": "CaTBGVOSehLb",
    "outputId": "cb41540e-9b42-4b8d-e80d-616c8478245d"
   },
   "outputs": [
    {
     "name": "stderr",
     "output_type": "stream",
     "text": [
      "/hpc/projects/group.czii/kevin.zhao/conda_envs/topcup/lib/python3.12/site-packages/tqdm/auto.py:21: TqdmWarning: IProgress not found. Please update jupyter and ipywidgets. See https://ipywidgets.readthedocs.io/en/stable/user_install.html\n",
      "  from .autonotebook import tqdm as notebook_tqdm\n"
     ]
    },
    {
     "name": "stdout",
     "output_type": "stream",
     "text": [
      "making output dir output/inference\n",
      "[INFO] Loading 3 checkpoints from checkpoints\n"
     ]
    },
    {
     "name": "stderr",
     "output_type": "stream",
     "text": [
      "/hpc/projects/group.czii/kevin.zhao/conda_envs/topcup/lib/python3.12/site-packages/pytorch_lightning/utilities/migration/utils.py:56: The loaded checkpoint was produced with Lightning v2.5.2, which is newer than your current Lightning version: v2.4.0\n",
      "GPU available: True (cuda), used: True\n",
      "TPU available: False, using: 0 TPU cores\n",
      "HPU available: False, using: 0 HPUs\n",
      "/hpc/projects/group.czii/kevin.zhao/conda_envs/topcup/lib/python3.12/site-packages/pytorch_lightning/trainer/connectors/logger_connector/logger_connector.py:75: Starting from v1.9.0, `tensorboardX` has been removed as a dependency of the `pytorch_lightning` package, due to potential conflicts with other packages in the ML ecosystem. For this reason, `logger=True` will use `CSVLogger` as the default logger, unless the `tensorboard` or `tensorboardX` packages are found. Please `pip install lightning[extra]` or one of them to enable TensorBoard support by default\n",
      "You are using a CUDA device ('NVIDIA A40') that has Tensor Cores. To properly utilize them, you should set `torch.set_float32_matmul_precision('medium' | 'high')` which will trade-off precision for performance. For more details, read https://pytorch.org/docs/stable/generated/torch.set_float32_matmul_precision.html#torch.set_float32_matmul_precision\n",
      "LOCAL_RANK: 0 - CUDA_VISIBLE_DEVICES: [0]\n",
      "SLURM auto-requeueing enabled. Setting signal handlers.\n"
     ]
    },
    {
     "name": "stdout",
     "output_type": "stream",
     "text": [
      "Inference_dataset length: 3\n",
      "Predicting DataLoader 0:   0%|          | 0/3 [00:00<?, ?it/s][INFO] GPU cuda:0 | Using ensemble of 3 models.\n",
      "Predicting TS 17803\n",
      "Predicting DataLoader 0:  33%|███▎      | 1/3 [00:38<01:17,  0.03it/s]"
     ]
    },
    {
     "name": "stderr",
     "output_type": "stream",
     "text": [
      "/hpc/projects/group.czii/kevin.zhao/conda_envs/topcup/lib/python3.12/site-packages/pytorch_lightning/loops/prediction_loop.py:255: predict returned None if it was on purpose, ignore this warning...\n"
     ]
    },
    {
     "name": "stdout",
     "output_type": "stream",
     "text": [
      "[INFO] GPU cuda:0 | Using ensemble of 3 models.\n",
      "Predicting TS 17804\n",
      "Predicting DataLoader 0:  67%|██████▋   | 2/3 [00:56<00:28,  0.04it/s][INFO] GPU cuda:0 | Using ensemble of 3 models.\n",
      "Predicting TS 17805\n",
      "Predicting DataLoader 0: 100%|██████████| 3/3 [01:13<00:00,  0.04it/s]Save predicted results in output/inference/val_pred_df_seed.csv\n",
      "Predicting DataLoader 0: 100%|██████████| 3/3 [01:14<00:00,  0.04it/s]\n"
     ]
    }
   ],
   "source": [
    "# code for running model for inference in Juputer with live printouts. You can also run the commands directly in a terminal.\n",
    "\n",
    "from topcup.cli.cli import cli\n",
    "\n",
    "# Let's do inference for the first 3 tomograms\n",
    "cli.main(\n",
    "    args=[\n",
    "        \"inference\",\n",
    "        \"-c\", f\"{copick_config_path}\",\n",
    "        \"-ts\", \"17803,17804,17805\",\n",
    "        \"-p\", f\"{cache}\",\n",
    "        \"--pixelsize\", \"10.012\",\n",
    "        \"-o\", \"output/inference\",\n",
    "        \"-tt\", \"wbp-denoised-denoiset-ctfdeconv\",\n",
    "        \"-pa\", \"*.ckpt\",\n",
    "    ],\n",
    "    standalone_mode=False,  # so click doesn’t exit on exceptions\n",
    ")"
   ]
  },
  {
   "cell_type": "markdown",
   "metadata": {
    "id": "ror84XL9ejDV"
   },
   "source": [
    "## Model Outputs\n",
    "\n",
    "The model will automatically save the particle picks (locations in Angstrom) as a CSV file inside the specified output directory.\n"
   ]
  },
  {
   "cell_type": "markdown",
   "metadata": {
    "id": "A7sWxXkEfr7x"
   },
   "source": [
    "## Contact and Acknowledgments\n",
    "\n",
    "For issues with this quickstart please contact kevin.zhao@czii.org\n",
    "\n",
    "Special thank you to Christof Hankel for developing the segmenation models and Ermel Utz for developing copick.\n"
   ]
  },
  {
   "cell_type": "markdown",
   "metadata": {
    "id": "6RIWjiHrf1ft"
   },
   "source": [
    "## References\n",
    "\n",
    "- Peck, A., et al., (2025) A Realistic Phantom Dataset for Benchmarking Cryo-ET Data Annotation. Nature Methods. DOI: 10.1101/2024.11.04.621686"
   ]
  },
  {
   "cell_type": "markdown",
   "metadata": {
    "id": "WobpA6HMY7oE"
   },
   "source": [
    "## Responsible Use\n",
    "\n",
    "We are committed to advancing the responsible development and use of artificial intelligence. Please follow our [Acceptable Use Policy](https://virtualcellmodels.cziscience.com/acceptable-use-policy) when engaging with our services."
   ]
  }
 ],
 "metadata": {
  "accelerator": "GPU",
  "colab": {
   "gpuType": "T4",
   "provenance": []
  },
  "kernelspec": {
   "display_name": "topcup",
   "language": "python",
   "name": "topcup"
  },
  "language_info": {
   "codemirror_mode": {
    "name": "ipython",
    "version": 3
   },
   "file_extension": ".py",
   "mimetype": "text/x-python",
   "name": "python",
   "nbconvert_exporter": "python",
   "pygments_lexer": "ipython3",
   "version": "3.12.12"
  },
  "widgets": {
   "application/vnd.jupyter.widget-state+json": {
    "0574d51041374786937433d97e706b9f": {
     "model_module": "@jupyter-widgets/base",
     "model_module_version": "1.2.0",
     "model_name": "LayoutModel",
     "state": {
      "_model_module": "@jupyter-widgets/base",
      "_model_module_version": "1.2.0",
      "_model_name": "LayoutModel",
      "_view_count": null,
      "_view_module": "@jupyter-widgets/base",
      "_view_module_version": "1.2.0",
      "_view_name": "LayoutView",
      "align_content": null,
      "align_items": null,
      "align_self": null,
      "border": null,
      "bottom": null,
      "display": null,
      "flex": null,
      "flex_flow": null,
      "grid_area": null,
      "grid_auto_columns": null,
      "grid_auto_flow": null,
      "grid_auto_rows": null,
      "grid_column": null,
      "grid_gap": null,
      "grid_row": null,
      "grid_template_areas": null,
      "grid_template_columns": null,
      "grid_template_rows": null,
      "height": null,
      "justify_content": null,
      "justify_items": null,
      "left": null,
      "margin": null,
      "max_height": null,
      "max_width": null,
      "min_height": null,
      "min_width": null,
      "object_fit": null,
      "object_position": null,
      "order": null,
      "overflow": null,
      "overflow_x": null,
      "overflow_y": null,
      "padding": null,
      "right": null,
      "top": null,
      "visibility": null,
      "width": null
     }
    },
    "1476a45039aa47d5a81f42d09b7f3af2": {
     "model_module": "@jupyter-widgets/controls",
     "model_module_version": "1.5.0",
     "model_name": "HTMLModel",
     "state": {
      "_dom_classes": [],
      "_model_module": "@jupyter-widgets/controls",
      "_model_module_version": "1.5.0",
      "_model_name": "HTMLModel",
      "_view_count": null,
      "_view_module": "@jupyter-widgets/controls",
      "_view_module_version": "1.5.0",
      "_view_name": "HTMLView",
      "description": "",
      "description_tooltip": null,
      "layout": "IPY_MODEL_0574d51041374786937433d97e706b9f",
      "placeholder": "​",
      "style": "IPY_MODEL_7bdf363efc274d59a941752663974601",
      "value": "Predicting DataLoader 0: 100%"
     }
    },
    "1dc7111dadb9475ca3faf3fd92e98d6e": {
     "model_module": "@jupyter-widgets/controls",
     "model_module_version": "1.5.0",
     "model_name": "FloatProgressModel",
     "state": {
      "_dom_classes": [],
      "_model_module": "@jupyter-widgets/controls",
      "_model_module_version": "1.5.0",
      "_model_name": "FloatProgressModel",
      "_view_count": null,
      "_view_module": "@jupyter-widgets/controls",
      "_view_module_version": "1.5.0",
      "_view_name": "ProgressView",
      "bar_style": "success",
      "description": "",
      "description_tooltip": null,
      "layout": "IPY_MODEL_5d0aed0bad774b62a2acc34216d45dfa",
      "max": 3,
      "min": 0,
      "orientation": "horizontal",
      "style": "IPY_MODEL_b82d761feae643c5a5247b7fc6f59fe2",
      "value": 3
     }
    },
    "470f4970a8394d7485441095293eec6b": {
     "model_module": "@jupyter-widgets/base",
     "model_module_version": "1.2.0",
     "model_name": "LayoutModel",
     "state": {
      "_model_module": "@jupyter-widgets/base",
      "_model_module_version": "1.2.0",
      "_model_name": "LayoutModel",
      "_view_count": null,
      "_view_module": "@jupyter-widgets/base",
      "_view_module_version": "1.2.0",
      "_view_name": "LayoutView",
      "align_content": null,
      "align_items": null,
      "align_self": null,
      "border": null,
      "bottom": null,
      "display": null,
      "flex": null,
      "flex_flow": null,
      "grid_area": null,
      "grid_auto_columns": null,
      "grid_auto_flow": null,
      "grid_auto_rows": null,
      "grid_column": null,
      "grid_gap": null,
      "grid_row": null,
      "grid_template_areas": null,
      "grid_template_columns": null,
      "grid_template_rows": null,
      "height": null,
      "justify_content": null,
      "justify_items": null,
      "left": null,
      "margin": null,
      "max_height": null,
      "max_width": null,
      "min_height": null,
      "min_width": null,
      "object_fit": null,
      "object_position": null,
      "order": null,
      "overflow": null,
      "overflow_x": null,
      "overflow_y": null,
      "padding": null,
      "right": null,
      "top": null,
      "visibility": null,
      "width": null
     }
    },
    "5d0aed0bad774b62a2acc34216d45dfa": {
     "model_module": "@jupyter-widgets/base",
     "model_module_version": "1.2.0",
     "model_name": "LayoutModel",
     "state": {
      "_model_module": "@jupyter-widgets/base",
      "_model_module_version": "1.2.0",
      "_model_name": "LayoutModel",
      "_view_count": null,
      "_view_module": "@jupyter-widgets/base",
      "_view_module_version": "1.2.0",
      "_view_name": "LayoutView",
      "align_content": null,
      "align_items": null,
      "align_self": null,
      "border": null,
      "bottom": null,
      "display": null,
      "flex": "2",
      "flex_flow": null,
      "grid_area": null,
      "grid_auto_columns": null,
      "grid_auto_flow": null,
      "grid_auto_rows": null,
      "grid_column": null,
      "grid_gap": null,
      "grid_row": null,
      "grid_template_areas": null,
      "grid_template_columns": null,
      "grid_template_rows": null,
      "height": null,
      "justify_content": null,
      "justify_items": null,
      "left": null,
      "margin": null,
      "max_height": null,
      "max_width": null,
      "min_height": null,
      "min_width": null,
      "object_fit": null,
      "object_position": null,
      "order": null,
      "overflow": null,
      "overflow_x": null,
      "overflow_y": null,
      "padding": null,
      "right": null,
      "top": null,
      "visibility": null,
      "width": null
     }
    },
    "70b55228e2ea4eb0a82c92f06c4c1e0f": {
     "model_module": "@jupyter-widgets/controls",
     "model_module_version": "1.5.0",
     "model_name": "HBoxModel",
     "state": {
      "_dom_classes": [],
      "_model_module": "@jupyter-widgets/controls",
      "_model_module_version": "1.5.0",
      "_model_name": "HBoxModel",
      "_view_count": null,
      "_view_module": "@jupyter-widgets/controls",
      "_view_module_version": "1.5.0",
      "_view_name": "HBoxView",
      "box_style": "",
      "children": [
       "IPY_MODEL_1476a45039aa47d5a81f42d09b7f3af2",
       "IPY_MODEL_1dc7111dadb9475ca3faf3fd92e98d6e",
       "IPY_MODEL_94c7ff0a4b9d49a7a0b3ff381556240b"
      ],
      "layout": "IPY_MODEL_a317c6e7f4c64773be37e2f4cf60d407"
     }
    },
    "7bdf363efc274d59a941752663974601": {
     "model_module": "@jupyter-widgets/controls",
     "model_module_version": "1.5.0",
     "model_name": "DescriptionStyleModel",
     "state": {
      "_model_module": "@jupyter-widgets/controls",
      "_model_module_version": "1.5.0",
      "_model_name": "DescriptionStyleModel",
      "_view_count": null,
      "_view_module": "@jupyter-widgets/base",
      "_view_module_version": "1.2.0",
      "_view_name": "StyleView",
      "description_width": ""
     }
    },
    "94c7ff0a4b9d49a7a0b3ff381556240b": {
     "model_module": "@jupyter-widgets/controls",
     "model_module_version": "1.5.0",
     "model_name": "HTMLModel",
     "state": {
      "_dom_classes": [],
      "_model_module": "@jupyter-widgets/controls",
      "_model_module_version": "1.5.0",
      "_model_name": "HTMLModel",
      "_view_count": null,
      "_view_module": "@jupyter-widgets/controls",
      "_view_module_version": "1.5.0",
      "_view_name": "HTMLView",
      "description": "",
      "description_tooltip": null,
      "layout": "IPY_MODEL_470f4970a8394d7485441095293eec6b",
      "placeholder": "​",
      "style": "IPY_MODEL_e7c3dbe2b439420a8cf12a360048c4b8",
      "value": " 3/3 [05:12&lt;00:00,  0.01it/s]"
     }
    },
    "a317c6e7f4c64773be37e2f4cf60d407": {
     "model_module": "@jupyter-widgets/base",
     "model_module_version": "1.2.0",
     "model_name": "LayoutModel",
     "state": {
      "_model_module": "@jupyter-widgets/base",
      "_model_module_version": "1.2.0",
      "_model_name": "LayoutModel",
      "_view_count": null,
      "_view_module": "@jupyter-widgets/base",
      "_view_module_version": "1.2.0",
      "_view_name": "LayoutView",
      "align_content": null,
      "align_items": null,
      "align_self": null,
      "border": null,
      "bottom": null,
      "display": "inline-flex",
      "flex": null,
      "flex_flow": "row wrap",
      "grid_area": null,
      "grid_auto_columns": null,
      "grid_auto_flow": null,
      "grid_auto_rows": null,
      "grid_column": null,
      "grid_gap": null,
      "grid_row": null,
      "grid_template_areas": null,
      "grid_template_columns": null,
      "grid_template_rows": null,
      "height": null,
      "justify_content": null,
      "justify_items": null,
      "left": null,
      "margin": null,
      "max_height": null,
      "max_width": null,
      "min_height": null,
      "min_width": null,
      "object_fit": null,
      "object_position": null,
      "order": null,
      "overflow": null,
      "overflow_x": null,
      "overflow_y": null,
      "padding": null,
      "right": null,
      "top": null,
      "visibility": null,
      "width": "100%"
     }
    },
    "b82d761feae643c5a5247b7fc6f59fe2": {
     "model_module": "@jupyter-widgets/controls",
     "model_module_version": "1.5.0",
     "model_name": "ProgressStyleModel",
     "state": {
      "_model_module": "@jupyter-widgets/controls",
      "_model_module_version": "1.5.0",
      "_model_name": "ProgressStyleModel",
      "_view_count": null,
      "_view_module": "@jupyter-widgets/base",
      "_view_module_version": "1.2.0",
      "_view_name": "StyleView",
      "bar_color": null,
      "description_width": ""
     }
    },
    "e7c3dbe2b439420a8cf12a360048c4b8": {
     "model_module": "@jupyter-widgets/controls",
     "model_module_version": "1.5.0",
     "model_name": "DescriptionStyleModel",
     "state": {
      "_model_module": "@jupyter-widgets/controls",
      "_model_module_version": "1.5.0",
      "_model_name": "DescriptionStyleModel",
      "_view_count": null,
      "_view_module": "@jupyter-widgets/base",
      "_view_module_version": "1.2.0",
      "_view_name": "StyleView",
      "description_width": ""
     }
    }
   }
  }
 },
 "nbformat": 4,
 "nbformat_minor": 4
}
